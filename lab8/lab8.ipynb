{
 "cells": [
  {
   "cell_type": "code",
   "execution_count": 1,
   "metadata": {
    "collapsed": true
   },
   "outputs": [],
   "source": [
    "from Levenshtein import *"
   ]
  },
  {
   "cell_type": "code",
   "execution_count": 2,
   "metadata": {
    "collapsed": false
   },
   "outputs": [
    {
     "data": {
      "text/plain": [
       "1"
      ]
     },
     "execution_count": 2,
     "metadata": {},
     "output_type": "execute_result"
    }
   ],
   "source": [
    "distance('hej','hei')"
   ]
  },
  {
   "cell_type": "code",
   "execution_count": 3,
   "metadata": {
    "collapsed": false
   },
   "outputs": [
    {
     "data": {
      "text/plain": [
       "5"
      ]
     },
     "execution_count": 3,
     "metadata": {},
     "output_type": "execute_result"
    }
   ],
   "source": [
    "distance('monthgomery st', 'montgomery street')"
   ]
  },
  {
   "cell_type": "code",
   "execution_count": 5,
   "metadata": {
    "collapsed": false
   },
   "outputs": [
    {
     "data": {
      "text/plain": [
       "2"
      ]
     },
     "execution_count": 5,
     "metadata": {},
     "output_type": "execute_result"
    }
   ],
   "source": [
    "distance('gumbarrel', 'gunbarrell')"
   ]
  },
  {
   "cell_type": "code",
   "execution_count": 219,
   "metadata": {
    "collapsed": false
   },
   "outputs": [],
   "source": [
    "def myLevy(word1, word2):\n",
    "    d = [[0]*(len(word2)+1) for i in range(len(word1)+1)]\n",
    "    cost = [[0]*(len(word2)+1) for i in range(len(word1)+1)]\n",
    "    #print len(word1),len(word2)\n",
    "    for idx, val in enumerate(word2):\n",
    "        d[0][idx] = idx\n",
    "    for idx, val in enumerate(word1):\n",
    "        d[idx][0] = idx\n",
    "    d[0][len(word2)] = len(word2)\n",
    "    d[len(word1)][0] = len(word1)\n",
    "\n",
    "    #print d\n",
    "    \n",
    "    for c in range(len(word1)):\n",
    "        for l in range(len(word2)):\n",
    "            if word1[c] != word2[l]:\n",
    "                cost[c][l] = 1\n",
    "            else:\n",
    "                cost[c][l] = 0\n",
    "                \n",
    "    \n",
    "    for i in range(len(d)):\n",
    "        for j in range(len(d[i])):\n",
    "            if i == 0 or j == 0:\n",
    "                continue\n",
    "\n",
    "            val1 = d[i-1][j]+1\n",
    "            val2 = d[i][j-1]+1\n",
    "            val3 = d[i-1][j-1]+cost[i][j]\n",
    "            min_val = min(val1,val2,val3)\n",
    "            d[i][j] = min_val\n",
    "            \n",
    "    print d\n",
    "    print \"myLevy distance: %s\" % (d[len(word1)][len(word2)])\n",
    "    "
   ]
  },
  {
   "cell_type": "code",
   "execution_count": 220,
   "metadata": {
    "collapsed": false
   },
   "outputs": [
    {
     "name": "stdout",
     "output_type": "stream",
     "text": [
      "[[0, 1, 2, 3, 4, 5, 6, 7, 8, 9, 10], [1, 0, 1, 2, 3, 4, 5, 6, 7, 8, 9], [2, 1, 1, 2, 3, 4, 5, 6, 7, 8, 8], [3, 2, 2, 1, 2, 3, 4, 5, 6, 7, 8], [4, 3, 3, 2, 1, 2, 3, 4, 5, 6, 7], [5, 4, 4, 3, 2, 1, 2, 3, 4, 5, 6], [6, 5, 5, 4, 3, 2, 1, 2, 3, 4, 5], [7, 6, 6, 5, 4, 3, 2, 1, 2, 3, 4], [8, 7, 7, 6, 5, 4, 3, 2, 1, 2, 3], [9, 8, 7, 7, 6, 5, 4, 3, 2, 1, 2]]\n",
      "myLevy distance: 2\n"
     ]
    }
   ],
   "source": [
    "myLevy('gumbarrel','gunbarrell')\n"
   ]
  },
  {
   "cell_type": "code",
   "execution_count": 221,
   "metadata": {
    "collapsed": false
   },
   "outputs": [
    {
     "name": "stdout",
     "output_type": "stream",
     "text": [
      "[[0, 1, 2, 3, 4, 5, 6, 7], [1, 1, 2, 2, 3, 4, 5, 6], [2, 2, 2, 3, 3, 4, 5, 5], [3, 3, 3, 2, 3, 4, 5, 5], [4, 4, 4, 3, 2, 3, 4, 5], [5, 4, 5, 4, 3, 3, 3, 4], [6, 5, 4, 5, 4, 3, 3, 3]]\n",
      "myLevy distance: 3\n"
     ]
    }
   ],
   "source": [
    "myLevy('loyola','lajolla')"
   ]
  },
  {
   "cell_type": "code",
   "execution_count": 222,
   "metadata": {
    "collapsed": false
   },
   "outputs": [
    {
     "name": "stdout",
     "output_type": "stream",
     "text": [
      "[[0, 1, 2, 3, 4, 5, 6, 7, 8, 9, 10, 11, 12, 13, 14, 15, 16, 17], [1, 0, 1, 2, 3, 4, 5, 6, 7, 8, 9, 10, 11, 12, 13, 14, 15, 16], [2, 1, 0, 1, 2, 3, 4, 5, 6, 7, 8, 9, 10, 11, 12, 13, 14, 15], [3, 2, 1, 0, 1, 2, 3, 4, 5, 6, 7, 8, 9, 10, 11, 12, 13, 14], [4, 3, 2, 1, 1, 2, 3, 4, 5, 6, 7, 8, 9, 10, 11, 12, 13, 13], [5, 4, 3, 2, 1, 2, 3, 4, 5, 6, 7, 8, 9, 10, 11, 12, 13, 13], [6, 5, 4, 3, 2, 1, 2, 3, 4, 5, 6, 7, 8, 9, 10, 11, 12, 13], [7, 6, 5, 4, 3, 2, 1, 2, 3, 4, 5, 6, 7, 8, 9, 10, 11, 12], [8, 7, 6, 5, 4, 3, 2, 1, 2, 3, 4, 5, 6, 7, 8, 9, 10, 11], [9, 8, 7, 6, 5, 4, 3, 2, 1, 2, 3, 4, 5, 6, 7, 8, 9, 10], [10, 9, 8, 7, 6, 5, 4, 3, 2, 1, 2, 3, 4, 5, 6, 7, 8, 9], [11, 10, 9, 8, 7, 6, 5, 4, 3, 2, 1, 2, 3, 4, 5, 6, 7, 8], [12, 11, 10, 9, 8, 7, 6, 5, 4, 3, 2, 1, 2, 3, 4, 5, 6, 7], [13, 12, 11, 10, 9, 8, 7, 6, 5, 4, 3, 2, 1, 2, 3, 4, 5, 6], [14, 13, 12, 11, 10, 9, 8, 7, 6, 5, 4, 3, 2, 1, 2, 3, 4, 5]]\n",
      "myLevy distance: 5\n"
     ]
    }
   ],
   "source": [
    "myLevy('monthgomery st', 'montgomery street')"
   ]
  },
  {
   "cell_type": "code",
   "execution_count": null,
   "metadata": {
    "collapsed": true
   },
   "outputs": [],
   "source": []
  }
 ],
 "metadata": {
  "anaconda-cloud": {},
  "kernelspec": {
   "display_name": "Python [default]",
   "language": "python",
   "name": "python2"
  },
  "language_info": {
   "codemirror_mode": {
    "name": "ipython",
    "version": 2
   },
   "file_extension": ".py",
   "mimetype": "text/x-python",
   "name": "python",
   "nbconvert_exporter": "python",
   "pygments_lexer": "ipython2",
   "version": "2.7.12"
  }
 },
 "nbformat": 4,
 "nbformat_minor": 1
}
